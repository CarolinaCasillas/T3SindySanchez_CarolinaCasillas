{
 "cells": [
  {
   "cell_type": "markdown",
   "metadata": {},
   "source": [
    "<img style=\"float: left; margin: 30px 15px 15px 15px;\" src=\"https://encrypted-tbn0.gstatic.com/images?q=tbn:ANd9GcTFzQj91sOlkeDFkg5HDbjtR4QJYmLXkfMNig&usqp=CAU\" width=\"400\" height=\"500\" /> \n",
    "    \n",
    "    \n",
    "### <font color='navy'> Simulación matemática. \n",
    "\n",
    "**Nombres:** Sindy Citlali Sánchez Ponce, Carolina Anidsel Casillas García.\n",
    "\n",
    "**Fecha:** 14 de septiembre del 2022.\n",
    "\n",
    "**Expediente** : **740286**.\n",
    "    \n",
    "**Profesor:** Oscar David Jaramillo Zuluaga.\n",
    "    \n",
    "**Link Github**: https://github.com/CarolinaCasillas/T3SindySanchez_CarolinaCasillas\n",
    "\n",
    "# Tarea 3"
   ]
  },
  {
   "cell_type": "markdown",
   "metadata": {},
   "source": [
    "### 1. Otro problema de transporte\n",
    "\n",
    "La empresa Carbones de oriente debe ingresar a la empresa un requerimiento mínimo diario de carbón de $5000$ kg de carbón de alto volátil, $4000$ kg de medio volátil y $3000$ kg de bajo volátil para su debido proceso y trasformación. \n",
    "\n",
    "La entrada de estos se da en la siguiente tabla (los valores corresponden a un viaje en kg): \n",
    "\n",
    "-|Alto volátil|Medio volátil|Bajo volátil\n",
    ":----|----|----|----\n",
    "Mina sur|80|70|65\n",
    "Mina norte|60|50|40\n",
    "Mina central|40|30|20\n",
    "\n",
    "El costo del trasporte de un viaje de cada mina es de 2500 dólares, 1500 dólares y 900 dólares, respectivamente. ¿Cuántos viajes de cada mina se deben recibir a diario para suplir los requerimientos mínimos y generar el menor costo de transporte? \n",
    "\n",
    "Para simplificar la notación use las siguientes variables: \n",
    "\n",
    "+ $x_1:$ Cantidad de viajes de la mina sur  \n",
    "+ $x_2:$ Cantidad de viajes de la mina norte  \n",
    "+ $x_3:$ Cantidad de viajes de la mina central  \n",
    "\n",
    "\n",
    "El objetivo consiste consiste en plantear el problema de programación lineal que permita satisfacer los requerimientos de la empresa Carbones de oriente y resolverlo con `linprog`."
   ]
  },
  {
   "cell_type": "markdown",
   "metadata": {},
   "source": [
    "### 2. \n",
    "Una empresa de muebles rústicos fabrica entre muchos otros productos cinco tipos de sillas A, B, C, D Y E, las cuales se venden a precio de $1100$, $1300$, $1200$, $980$ y $1010$ pesos cada una y respectivamente. \n",
    "\n",
    "Las sillas pasan por cinco procesos: corte, ensamblado, lijado, pintado y sellado, para lo cual se dispone máximo de $17$, $11$, $15$, $12$ y $14$ horas respectivamente a la semana para dedicar a estas operaciones a estos productos.\n",
    "\n",
    "Los requerimientos, en horas, para cada una de las sillas está dado en la siguiente tabla:\n",
    "\n",
    "-|Corte|Ensamblado|Lijado|Pintado|Sellado\n",
    ":----|----|----|----|----|----\n",
    "Silla A|3|1|3|1|1\n",
    "Silla B|2|3|2|2|3\n",
    "Silla C|5|2|2|3|1\n",
    "Silla D|2|4|1|1|2\n",
    "Silla E|1|0|2|2|3\n",
    "\n",
    "¿Cuántas sillas de cada tipo se deben fabricar para suplir los requerimientos de disponibiladas semanal y generar la mayor utilidad en ventas? \n",
    "\n",
    "Para simplificar la notación use las siguientes variables: \n",
    "\n",
    "+ $x_A:$ Cantidad de sillas tipo A \n",
    "+ $x_B:$ Cantidad de sillas tipo B \n",
    "+ $x_C:$ Cantidad de sillas tipo C \n",
    "+ $x_D:$ Cantidad de sillas tipo D  \n",
    "+ $x_E:$ Cantidad de sillas tipo E\n",
    "\n",
    "\n",
    "El objetivo consiste consiste en plantear el problemade programación lineal que permita satisfacer los requerimientos de la empresa empresa de muebles y resolverlo con `linprog`.\n"
   ]
  },
  {
   "cell_type": "markdown",
   "metadata": {},
   "source": [
    "Código de solución estudiante 1"
   ]
  },
  {
   "cell_type": "code",
   "execution_count": null,
   "metadata": {},
   "outputs": [],
   "source": [
    "# Código de solución estudiante 1\n",
    ".\n",
    ".\n",
    ".\n",
    ".\n"
   ]
  },
  {
   "cell_type": "markdown",
   "metadata": {},
   "source": [
    "### Respuesta planteada en el ejercicio usando (markdown)\n",
    " La respuesta es ........."
   ]
  },
  {
   "cell_type": "markdown",
   "metadata": {},
   "source": [
    "Código de solución estudiante 2"
   ]
  },
  {
   "cell_type": "code",
   "execution_count": 31,
   "metadata": {},
   "outputs": [],
   "source": [
    "#Importar numpy y el módulo optimize de la librería scipy\n",
    "import numpy as np \n",
    "import scipy.optimize as opt"
   ]
  },
  {
   "cell_type": "code",
   "execution_count": 32,
   "metadata": {},
   "outputs": [],
   "source": [
    "#Ejercicio 1\n",
    "# Crear las matrices para resolver el problema\n",
    "c = np.array([2500,1500,900])\n",
    "b = np.array([-5000,-4000,-3000])\n",
    "A = np.array([[-80,-60,-40],\n",
    "             [-70,-50,-30],\n",
    "             [-65,-40,-20]])"
   ]
  },
  {
   "cell_type": "code",
   "execution_count": 33,
   "metadata": {},
   "outputs": [
    {
     "data": {
      "text/plain": [
       "(array([2500, 1500,  900]),\n",
       " array([-5000, -4000, -3000]),\n",
       " array([[-80, -60, -40],\n",
       "        [-70, -50, -30],\n",
       "        [-65, -40, -20]]))"
      ]
     },
     "execution_count": 33,
     "metadata": {},
     "output_type": "execute_result"
    }
   ],
   "source": [
    "c,b,A"
   ]
  },
  {
   "cell_type": "code",
   "execution_count": 34,
   "metadata": {},
   "outputs": [],
   "source": [
    "sol_ej1 = opt.linprog(c,A,b,method='simplex')"
   ]
  },
  {
   "cell_type": "code",
   "execution_count": 35,
   "metadata": {},
   "outputs": [
    {
     "data": {
      "text/plain": [
       "     con: array([], dtype=float64)\n",
       "     fun: 119999.99999999999\n",
       " message: 'Optimization terminated successfully.'\n",
       "     nit: 4\n",
       "   slack: array([ 0.00000000e+00, -4.54747351e-13,  0.00000000e+00])\n",
       "  status: 0\n",
       " success: True\n",
       "       x: array([ 0., 50., 50.])"
      ]
     },
     "execution_count": 35,
     "metadata": {},
     "output_type": "execute_result"
    }
   ],
   "source": [
    "sol_ej1"
   ]
  },
  {
   "cell_type": "code",
   "execution_count": 36,
   "metadata": {},
   "outputs": [],
   "source": [
    "#Ejercicio 2\n",
    "# Crear las matrices para resolver el problema\n",
    "c = np.array([-1100,-1300,-1200.,-980,-1010])\n",
    "b = np.array([17,11,15,12,14])\n",
    "A = np.array([[3,2,5,2,1],\n",
    "             [1,3,2,4,0],\n",
    "             [3,2,2,1,2],\n",
    "             [1,2,3,1,2],\n",
    "             [1,3,1,2,3]])"
   ]
  },
  {
   "cell_type": "code",
   "execution_count": 37,
   "metadata": {},
   "outputs": [
    {
     "data": {
      "text/plain": [
       "(array([-1100., -1300., -1200.,  -980., -1010.]),\n",
       " array([17, 11, 15, 12, 14]),\n",
       " array([[3, 2, 5, 2, 1],\n",
       "        [1, 3, 2, 4, 0],\n",
       "        [3, 2, 2, 1, 2],\n",
       "        [1, 2, 3, 1, 2],\n",
       "        [1, 3, 1, 2, 3]]))"
      ]
     },
     "execution_count": 37,
     "metadata": {},
     "output_type": "execute_result"
    }
   ],
   "source": [
    "c,b,A"
   ]
  },
  {
   "cell_type": "code",
   "execution_count": 38,
   "metadata": {},
   "outputs": [],
   "source": [
    "sol_ej2 = opt.linprog(c, A, b)"
   ]
  },
  {
   "cell_type": "code",
   "execution_count": 39,
   "metadata": {},
   "outputs": [
    {
     "data": {
      "text/plain": [
       "     con: array([], dtype=float64)\n",
       "     fun: -7699.999999956599\n",
       " message: 'Optimization terminated successfully.'\n",
       "     nit: 6\n",
       "   slack: array([7.63478170e-11, 4.03233003e-12, 9.50599599e-11, 1.70071957e-10,\n",
       "       7.64099894e-11])\n",
       "  status: 0\n",
       " success: True\n",
       "       x: array([2., 1., 1., 1., 2.])"
      ]
     },
     "execution_count": 39,
     "metadata": {},
     "output_type": "execute_result"
    }
   ],
   "source": [
    "sol_ej2"
   ]
  },
  {
   "cell_type": "markdown",
   "metadata": {},
   "source": [
    "### Respuesta planteada en el ejercicio usando (markdown)\n",
    "\n",
    "\n",
    "\n",
    "\n",
    "\n",
    " #### Estudiante 2\n",
    " ##### Ejercicio 1\n",
    " Nuestra función de utilidad es:\n",
    " \n",
    " $  2500x_{1} +1500 x_{2} + 900x_{3} $\n",
    " \n",
    " Restricciones: \n",
    " \n",
    "1. Se debe cumplir con al menos **5000 kg** de carbón **Alto volatil**: $80x_{1} + 60x_{2} + 40x_{3} \\geq 5000$\n",
    "2. Se debe cumplir con al menos **4000 kg** de carbón **Medio volatil**: $70x_{1} + 50x_{2} + 30x_{3} \\geq 4000$\n",
    "3. Se debe cumplir con al menos **3000 kg** de carbón **Bajo volatil**:$65x_{1} + 40x_{2} + 20x_{3} \\geq 3000$\n",
    " \n",
    "Cambiamos el signo de las ecuaciones para cambiar la igualdad.\n",
    "\n",
    " $\\boldsymbol{c}=\\left[2500 \\quad 1500 \\quad 900\\right]^\\top$,\n",
    " \n",
    " $\\boldsymbol{A}=\\left[\\begin{array}{cc} -80 & -60 & -40 \\\\ -70 & -50 & -30 \\\\ -65 & -40 & -20 \\end{array}\\right]$, y\n",
    " \n",
    " $\\boldsymbol{b}=\\left[-5000 \\quad -4000\\quad -3000\\right]^\\top$.\n",
    " \n",
    "Como resultado se obtiene un costo mínimo de $120000 con **50** viajes de la **Mina norte** y **50** viajes de la **Mina central**. El algoritmo arroja que no se deben realizar viajes de la Mina Sur.\n",
    " \n",
    " ##### Ejercicio 2\n",
    " \n",
    " Nuestra función de utilidad es:\n",
    " \n",
    " $ 1100 x_{a} +1300 x_{b} + 1200x_{c} +980x_{d} + 1010x_{e}$\n",
    " \n",
    " Restricciones: \n",
    " \n",
    "1. El tiempo de **Corte** debe ser menor a **17**: $3x_{a} + 2x_{b} + 5x_{c} + 2x_{d} + 1x_{e} \\leq 17$\n",
    "2. El tiempo de **Ensamblado** debe ser menor a **11**: $1x_{a} + 3x_{b} + 2x_{c} + 4x_{d} + 0x_{e} \\leq 11$\n",
    "3. El tiempo de **Lijado** debe ser menor a **15**: $3x_{a} + 2x_{b} + 2x_{c} + 1x_{d} + 2x_{e} \\leq 15$\n",
    "4. El tiempo de **Pintado** debe ser menor a **12**: $1x_{a} + 2x_{b} + 3x_{c} + 1x_{d} + 2x_{e} \\leq 12$\n",
    "5. El tiempo de **Sellado** debe ser menor a **14**: $1x_{a} + 3x_{b} + 1x_{c} + 2x_{d} + 3x_{e} \\leq 14$\n",
    " \n",
    "Como es un problema donde buscamos maximizar los beneficios, multiplicamos c por -1.\n",
    "\n",
    " $\\boldsymbol{c}=\\left[-1100 \\quad -1300 \\quad -1200 \\quad -980 \\quad -1010\\right]^\\top$,\n",
    " \n",
    " $\\boldsymbol{A}=\\left[\\begin{array}{cc} 3 & 2 & 5 & 2 &1 \\\\ 1 & 3 & 2 & 4 & 0 \\\\ 3 & 2 & 2 & 1 & 2 \\\\ 1 & 2 & 3 & 1 & 2 \\\\ 1 & 3 & 1 & 2 & 3\\end{array}\\right]$, y\n",
    " \n",
    " $\\boldsymbol{b}=\\left[17 \\quad 11\\quad 15 \\quad 12 \\quad 14\\right]^\\top$.\n",
    " \n",
    "Como resultado se obtiene una utilidad máxima de $7700 con la elaboracion de **2** sillas A, **1** silla B, **1** silla C, **1** silla D y **2** sillas D."
   ]
  }
 ],
 "metadata": {
  "kernelspec": {
   "display_name": "Python 3",
   "language": "python",
   "name": "python3"
  },
  "language_info": {
   "codemirror_mode": {
    "name": "ipython",
    "version": 3
   },
   "file_extension": ".py",
   "mimetype": "text/x-python",
   "name": "python",
   "nbconvert_exporter": "python",
   "pygments_lexer": "ipython3",
   "version": "3.8.3"
  }
 },
 "nbformat": 4,
 "nbformat_minor": 5
}
